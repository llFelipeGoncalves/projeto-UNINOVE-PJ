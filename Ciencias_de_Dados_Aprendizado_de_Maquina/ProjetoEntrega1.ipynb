{
  "nbformat": 4,
  "nbformat_minor": 0,
  "metadata": {
    "colab": {
      "provenance": [],
      "authorship_tag": "ABX9TyMxWj3BGKEMeBejmf4edHiX",
      "include_colab_link": true
    },
    "kernelspec": {
      "name": "python3",
      "display_name": "Python 3"
    },
    "language_info": {
      "name": "python"
    }
  },
  "cells": [
    {
      "cell_type": "markdown",
      "metadata": {
        "id": "view-in-github",
        "colab_type": "text"
      },
      "source": [
        "<a href=\"https://colab.research.google.com/github/llFelipeGoncalves/projeto-UNINOVE-PJ/blob/main/ProjetoEntrega1.ipynb\" target=\"_parent\"><img src=\"https://colab.research.google.com/assets/colab-badge.svg\" alt=\"Open In Colab\"/></a>"
      ]
    },
    {
      "cell_type": "code",
      "execution_count": 4,
      "metadata": {
        "id": "rxYtHUPGeWUz"
      },
      "outputs": [],
      "source": [
        "import pandas as pd"
      ]
    },
    {
      "cell_type": "code",
      "source": [
        "dataFrame = pd.read_csv('/content/Stores.csv')"
      ],
      "metadata": {
        "id": "bMMbPZqMeZVX"
      },
      "execution_count": 5,
      "outputs": []
    },
    {
      "cell_type": "code",
      "source": [
        "df = pd.DataFrame(dataFrame)\n",
        "print(df)"
      ],
      "metadata": {
        "colab": {
          "base_uri": "https://localhost:8080/"
        },
        "id": "1pchLWeSeyMK",
        "outputId": "dce7e189-e6d4-4fb9-d505-f93b66fa7d46"
      },
      "execution_count": 6,
      "outputs": [
        {
          "output_type": "stream",
          "name": "stdout",
          "text": [
            "     Date  Store_Area  Items_Available  Daily_Customer_Count  Store_Sales\n",
            "0  1.5.24        1659             1961                   530        66490\n",
            "1  4.9.23        1461             1752                   210        39820\n",
            "2  3.4.22        1340             1609                   720        54010\n",
            "3  4.8.21        1451             1748                   620        53730\n",
            "4  5.9.20        1770             2111                   450        46620\n"
          ]
        }
      ]
    }
  ]
}