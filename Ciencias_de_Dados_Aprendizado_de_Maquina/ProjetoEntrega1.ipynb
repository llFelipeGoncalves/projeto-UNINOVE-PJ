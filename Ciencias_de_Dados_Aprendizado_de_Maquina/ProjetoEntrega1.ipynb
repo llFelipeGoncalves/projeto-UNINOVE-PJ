{
  "nbformat": 4,
  "nbformat_minor": 0,
  "metadata": {
    "colab": {
      "provenance": []
    },
    "kernelspec": {
      "name": "python3",
      "display_name": "Python 3"
    },
    "language_info": {
      "name": "python"
    }
  },
  "cells": [
    {
      "cell_type": "code",
      "execution_count": 1,
      "metadata": {
        "id": "rxYtHUPGeWUz"
      },
      "outputs": [],
      "source": [
        "import pandas as pd"
      ]
    },
    {
      "cell_type": "code",
      "source": [
        "dataFrame = pd.read_csv('/content/Electronic.csv')"
      ],
      "metadata": {
        "id": "bMMbPZqMeZVX"
      },
      "execution_count": 3,
      "outputs": []
    },
    {
      "cell_type": "code",
      "source": [
        "df = pd.DataFrame(dataFrame)\n",
        "print(df)"
      ],
      "metadata": {
        "colab": {
          "base_uri": "https://localhost:8080/"
        },
        "id": "1pchLWeSeyMK",
        "outputId": "b7cabcc7-34c3-42bb-c6df-3979233f87ed"
      },
      "execution_count": 4,
      "outputs": [
        {
          "output_type": "stream",
          "name": "stdout",
          "text": [
            "      Age  Items Purchased  Total Spent  Discount (%)  Satisfaction Score  \\\n",
            "0      56                1    29.226195     47.077380            1.000000   \n",
            "1      69               10   420.142612      7.985739            3.760294   \n",
            "2      46                4   127.742817     37.225718            1.771240   \n",
            "3      32                9   417.722683      8.227732            1.926831   \n",
            "4      60               13   608.031366      5.000000            3.902927   \n",
            "...   ...              ...          ...           ...                 ...   \n",
            "4995   24                1    39.583865     46.041614            1.000000   \n",
            "4996   66                5   172.486538     32.751346            1.000000   \n",
            "4997   26               11   493.388104      5.000000            2.324783   \n",
            "4998   53               10   260.269589     23.973041            5.000000   \n",
            "4999   36               11   366.613874     13.338613            2.718373   \n",
            "\n",
            "      Warranty Extension  Gender Region Product Category Payment Method  \\\n",
            "0                      1    Male  South      Accessories            UPI   \n",
            "1                      1  Female  South      Accessories           Cash   \n",
            "2                      1    Male   East           Laptop    Credit Card   \n",
            "3                      0  Female   East           Tablet            UPI   \n",
            "4                      0  Female  South           Tablet            UPI   \n",
            "...                  ...     ...    ...              ...            ...   \n",
            "4995                   0    Male   West       Television    Credit Card   \n",
            "4996                   0    Male   East      Accessories     Debit Card   \n",
            "4997                   0    Male  North       Television    Net Banking   \n",
            "4998                   1  Female   West      Accessories     Debit Card   \n",
            "4999                   0  Female  South      Accessories    Net Banking   \n",
            "\n",
            "          Revenue  Store Rating  Loyalty Score  Membership Status  \\\n",
            "0      149.252145      3.660461       3.597133                  1   \n",
            "1     1485.524222      3.551553      25.764903                  1   \n",
            "2       85.550131      3.922839       7.022399                  1   \n",
            "3      824.118724      3.860422       7.635412                  1   \n",
            "4     2463.590392      3.812820      29.461119                  0   \n",
            "...           ...           ...            ...                ...   \n",
            "4995   -64.457793      4.187345       9.136240                  0   \n",
            "4996   138.772917      3.868131       1.961965                  0   \n",
            "4997  1010.219124      4.172183      16.750489                  0   \n",
            "4998  1114.585926      3.942221      25.562475                  1   \n",
            "4999   988.644957      3.765622      19.076740                  0   \n",
            "\n",
            "     Preferred Visit Time  \n",
            "0                 Evening  \n",
            "1                 Evening  \n",
            "2                 Morning  \n",
            "3               Afternoon  \n",
            "4                 Morning  \n",
            "...                   ...  \n",
            "4995              Morning  \n",
            "4996              Evening  \n",
            "4997              Evening  \n",
            "4998            Afternoon  \n",
            "4999              Morning  \n",
            "\n",
            "[5000 rows x 15 columns]\n"
          ]
        }
      ]
    }
  ]
}