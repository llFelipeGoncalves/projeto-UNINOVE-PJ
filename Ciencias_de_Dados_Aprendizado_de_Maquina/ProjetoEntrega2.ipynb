{
  "nbformat": 4,
  "nbformat_minor": 0,
  "metadata": {
    "colab": {
      "provenance": []
    },
    "kernelspec": {
      "name": "python3",
      "display_name": "Python 3"
    },
    "language_info": {
      "name": "python"
    }
  },
  "cells": [
    {
      "cell_type": "code",
      "execution_count": null,
      "metadata": {
        "id": "WXgOIUb43v31"
      },
      "outputs": [],
      "source": [
        "import pandas as pd"
      ]
    },
    {
      "cell_type": "code",
      "source": [
        "dataFrame = pd.read_csv('/content/Stores.csv')"
      ],
      "metadata": {
        "id": "7mzlFjWS4caG"
      },
      "execution_count": 42,
      "outputs": []
    },
    {
      "cell_type": "code",
      "source": [
        "df = pd.DataFrame(dataFrame)\n",
        "print(df)"
      ],
      "metadata": {
        "colab": {
          "base_uri": "https://localhost:8080/"
        },
        "id": "OoB5OUa949qT",
        "outputId": "4747c282-8762-4461-b21e-6fffaa29ecf5"
      },
      "execution_count": 43,
      "outputs": [
        {
          "output_type": "stream",
          "name": "stdout",
          "text": [
            "     Date  Store_Area  Items_Available  Daily_Customer_Count  Store_Sales\n",
            "0  1.5.24        1659             1961                   530        66490\n",
            "1  4.9.23        1461             1752                   210        39820\n",
            "2  3.4.22        1340             1609                   720        54010\n",
            "3  4.8.21        1451             1748                   620        53730\n",
            "4  5.9.20        1770             2111                   450        46620\n"
          ]
        }
      ]
    },
    {
      "cell_type": "code",
      "source": [
        "# Importar as bibliotecas necessárias\n",
        "import pandas as pd\n",
        "from sklearn.model_selection import train_test_split\n",
        "from sklearn.linear_model import LinearRegression\n",
        "from sklearn.metrics import mean_absolute_error, mean_squared_error\n",
        "import matplotlib.pyplot as plt\n",
        "\n",
        "# Carregar o dataset\n",
        "data = pd.read_csv(\"/content/Stores.csv\")\n",
        "\n",
        "# Usar apenas 'median_income' como variável independente (X) para o modelo simples\n",
        "X_simple = data.drop(columns=['Store_Sales','Date'])\n",
        "y = data['Store_Sales']\n",
        "\n",
        "# Dividir o dataset em 80% treino e 20% teste\n",
        "X_train, X_test, y_train, y_test = train_test_split(X_simple, y, test_size=0.2, random_state=42)\n",
        "\n",
        "# Inicializar e treinar o modelo de Regressão Linear\n",
        "model_regression = LinearRegression()\n",
        "model_regression.fit(X_train, y_train)\n",
        "\n",
        "# Fazer previsões no conjunto de teste\n",
        "y_pred = model_regression.predict(X_test)\n",
        "\n",
        "# Calcular MAE e MSE\n",
        "mae = mean_absolute_error(y_test, y_pred)\n",
        "mse = mean_squared_error(y_test, y_pred)\n",
        "\n",
        "# Calcular a porcentagem de erro para MAE e MSE\n",
        "mae_percentage = (mae / y_test.mean()) * 100\n",
        "mse_percentage = (mse / y_test.mean()) * 100\n",
        "\n",
        "# Exibir os resultados das métricas de erro e suas porcentagens\n",
        "print(\"Erro Médio Absoluto (MAE):\", mae)\n",
        "print(\"Erro Quadrático Médio (MSE):\", mse)\n",
        "print(\"Porcentagem de Erro MAE:\", mae_percentage, \"%\")\n",
        "print(\"Porcentagem de Erro MSE:\", mse_percentage, \"%\")\n",
        "\n",
        "# Plotar gráfico de dispersão para comparar valores reais e previstos\n",
        "plt.figure(figsize=(10, 6))\n",
        "plt.scatter(X_test, y_test, color='blue', label='Valor Real', alpha=0.5)\n",
        "plt.plot(X_test, y_pred, color='red', label='Valor Previsto', alpha=0.5)\n",
        "plt.xlabel('Date')\n",
        "plt.ylabel('Store Sales')\n",
        "plt.title('Regressão Linear')\n",
        "plt.legend()\n",
        "plt.show()\n"
      ],
      "metadata": {
        "id": "DKqcNFDcBgWU"
      },
      "execution_count": null,
      "outputs": []
    }
  ]
}
