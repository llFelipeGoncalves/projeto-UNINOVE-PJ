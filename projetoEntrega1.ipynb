{
  "nbformat": 4,
  "nbformat_minor": 0,
  "metadata": {
    "colab": {
      "provenance": [],
      "authorship_tag": "ABX9TyNSTva8WcP+tIFqZnwpYfTC",
      "include_colab_link": true
    },
    "kernelspec": {
      "name": "python3",
      "display_name": "Python 3"
    },
    "language_info": {
      "name": "python"
    }
  },
  "cells": [
    {
      "cell_type": "markdown",
      "metadata": {
        "id": "view-in-github",
        "colab_type": "text"
      },
      "source": [
        "<a href=\"https://colab.research.google.com/github/llFelipeGoncalves/projeto-UNINOVE-PJ/blob/main/projetoEntrega1.ipynb\" target=\"_parent\"><img src=\"https://colab.research.google.com/assets/colab-badge.svg\" alt=\"Open In Colab\"/></a>"
      ]
    },
    {
      "cell_type": "code",
      "execution_count": null,
      "metadata": {
        "id": "WXgOIUb43v31"
      },
      "outputs": [],
      "source": [
        "import pandas as pd"
      ]
    },
    {
      "cell_type": "code",
      "source": [
        "dataFrame = pd.read_csv('/content/Sales_April_2019.csv')"
      ],
      "metadata": {
        "id": "7mzlFjWS4caG"
      },
      "execution_count": null,
      "outputs": []
    },
    {
      "cell_type": "code",
      "source": [
        "df = pd.DataFrame(dataFrame)\n",
        "print(df)"
      ],
      "metadata": {
        "colab": {
          "base_uri": "https://localhost:8080/"
        },
        "id": "OoB5OUa949qT",
        "outputId": "5161d200-444e-47b2-d19a-0b66f2cf7550"
      },
      "execution_count": null,
      "outputs": [
        {
          "output_type": "stream",
          "name": "stdout",
          "text": [
            "      Order ID                     Product Quantity Ordered Price Each  \\\n",
            "0       176558        USB-C Charging Cable                2      11.95   \n",
            "1          NaN                         NaN              NaN        NaN   \n",
            "2       176559  Bose SoundSport Headphones                1      99.99   \n",
            "3       176560                Google Phone                1        600   \n",
            "4       176560            Wired Headphones                1      11.99   \n",
            "...        ...                         ...              ...        ...   \n",
            "18378   194090                Google Phone                1        600   \n",
            "18379   194091       AA Batteries (4-pack)                1       3.84   \n",
            "18380   194092      AAA Batteries (4-pack)                2       2.99   \n",
            "18381   194093       AA Batteries (4-pack)                1       3.84   \n",
            "18382   194094    Lightning Charging Cable                1      14.95   \n",
            "\n",
            "           Order Date                        Purchase Address  \n",
            "0      04/19/19 08:46            917 1st St, Dallas, TX 75001  \n",
            "1                 NaN                                     NaN  \n",
            "2      04/07/19 22:30       682 Chestnut St, Boston, MA 02215  \n",
            "3      04/12/19 14:38    669 Spruce St, Los Angeles, CA 90001  \n",
            "4      04/12/19 14:38    669 Spruce St, Los Angeles, CA 90001  \n",
            "...               ...                                     ...  \n",
            "18378  04/08/19 17:11   177 Jackson St, Los Angeles, CA 90001  \n",
            "18379  04/15/19 16:02         311 Forest St, Austin, TX 73301  \n",
            "18380  04/28/19 14:36  347 Sunset St, San Francisco, CA 94016  \n",
            "18381  04/14/19 15:09         835 Lake St, Portland, OR 97035  \n",
            "18382  04/18/19 11:08          354 North St, Boston, MA 02215  \n",
            "\n",
            "[18383 rows x 6 columns]\n"
          ]
        }
      ]
    }
  ]
}